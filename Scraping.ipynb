{
 "cells": [
  {
   "cell_type": "code",
   "execution_count": 1,
   "metadata": {},
   "outputs": [
    {
     "name": "stdout",
     "output_type": "stream",
     "text": [
      "A Culture Ride Through Chiang Mai and Chiang Rai\n",
      "Splendour at Sea in Koh Samui\n",
      "In Thailand, Nostalgia on Wheels\n",
      "A City’s State of Mind\n",
      "The Great Outdoors May Not Be Great for Long\n",
      "Searching For Our Pop Culture Gods\n",
      "A Bombay Classic That Endures\n",
      "Redefining #Goals\n",
      "Why Our Forests Need Watching\n",
      "A Soulmate for Summer\n",
      "How Deep Is Your Travel Love?\n",
      "Travel Inspiration for 2019 : A Book on Nietzsche and Hiking\n",
      "What Dreams May Come\n",
      "Free on the Outside\n",
      "In the Mood for Winter\n",
      "Slow Days, Fast Company\n",
      "Train to Nowhere\n",
      "Six Years And Counting…\n",
      "Getting Saucy About Food\n",
      "There is More to France Than Paris\n",
      "Eye on the Tiger in Madhya Pradesh\n",
      "Champagne: France’s Bottom’s Up Approach\n",
      "Life in a Paris Metro\n",
      "Mountain Getaway | Setting up a Hammock in the Himalayas at Shey Bhumi, Leh\n",
      "Kalki Koechlin’s Art of Travel: Go with the Flow\n",
      "Airbnb India’s Country Manager Amanpreet Bajaj on Making the World Home\n",
      "Taste Trumps Travel…\n"
     ]
    }
   ],
   "source": [
    "import requests \n",
    "from bs4 import BeautifulSoup \n",
    "\n",
    "def getArticle(url):\n",
    "    req = requests.get(url)\n",
    "    soup = BeautifulSoup(req.content, 'html5lib')\n",
    "    title = soup.find('h1')\n",
    "    print(title.text)\n",
    "    title = title.text\n",
    "\n",
    "    filename = \"ScrapedArticles.txt\"\n",
    "    f = open(filename, \"a\")\n",
    "    f.write(title)\n",
    "    f.write('\\n')\n",
    "\n",
    "    table = soup.find('div', attrs = {'class':'storyWrap'})\n",
    "    for row in table.findAll('p'): \n",
    "        #print(row.text)\n",
    "        f.write(row.text)\n",
    "        f.write('\\n')\n",
    "    f.close()\n",
    "\n",
    "def article(): \n",
    "    url='http://www.natgeotraveller.in/author/lakshmi-sankaran/'\n",
    "    \n",
    "    resp=requests.get(url) \n",
    "    Links=[]\n",
    "    \n",
    "    if resp.status_code==200:\n",
    "        \n",
    "        soup=BeautifulSoup(resp.text,'html.parser')\t \n",
    "        l=soup.find(\"ul\",{\"class\":\"categoryList\"})\n",
    "        \n",
    "        for i in l.findAll('div', attrs = {'class': 'cDescription'}):\n",
    "            Links.append(str(i.h1.a['href']))\n",
    "        \n",
    "        for i in Links:\n",
    "            getArticle(i)\n",
    "    else: \n",
    "        print(\"Error\") \n",
    "        \n",
    "article()"
   ]
  },
  {
   "cell_type": "code",
   "execution_count": null,
   "metadata": {},
   "outputs": [],
   "source": []
  }
 ],
 "metadata": {
  "kernelspec": {
   "display_name": "Python 3",
   "language": "python",
   "name": "python3"
  },
  "language_info": {
   "codemirror_mode": {
    "name": "ipython",
    "version": 3
   },
   "file_extension": ".py",
   "mimetype": "text/x-python",
   "name": "python",
   "nbconvert_exporter": "python",
   "pygments_lexer": "ipython3",
   "version": "3.7.6"
  }
 },
 "nbformat": 4,
 "nbformat_minor": 4
}
